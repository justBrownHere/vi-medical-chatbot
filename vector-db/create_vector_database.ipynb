{
  "cells": [
    {
      "cell_type": "code",
      "execution_count": null,
      "metadata": {
        "colab": {
          "base_uri": "https://localhost:8080/"
        },
        "id": "NIvlbPm_5pYc",
        "outputId": "9b9d5c64-a679-49ef-da9a-93f2a0381ff8"
      },
      "outputs": [
        {
          "name": "stdout",
          "output_type": "stream",
          "text": [
            "\u001b[2K     \u001b[90m━━━━━━━━━━━━━━━━━━━━━━━━━━━━━━━━━━━━━━━━\u001b[0m \u001b[32m1.0/1.0 MB\u001b[0m \u001b[31m6.9 MB/s\u001b[0m eta \u001b[36m0:00:00\u001b[0m\n",
            "\u001b[2K     \u001b[90m━━━━━━━━━━━━━━━━━━━━━━━━━━━━━━━━━━━━━━━━\u001b[0m \u001b[32m229.3/229.3 kB\u001b[0m \u001b[31m9.2 MB/s\u001b[0m eta \u001b[36m0:00:00\u001b[0m\n",
            "\u001b[2K     \u001b[90m━━━━━━━━━━━━━━━━━━━━━━━━━━━━━━━━━━━━━━━━\u001b[0m \u001b[32m2.0/2.0 MB\u001b[0m \u001b[31m18.8 MB/s\u001b[0m eta \u001b[36m0:00:00\u001b[0m\n",
            "\u001b[2K     \u001b[90m━━━━━━━━━━━━━━━━━━━━━━━━━━━━━━━━━━━━━━━━\u001b[0m \u001b[32m302.9/302.9 kB\u001b[0m \u001b[31m16.1 MB/s\u001b[0m eta \u001b[36m0:00:00\u001b[0m\n",
            "\u001b[2K     \u001b[90m━━━━━━━━━━━━━━━━━━━━━━━━━━━━━━━━━━━━━━━━\u001b[0m \u001b[32m121.0/121.0 kB\u001b[0m \u001b[31m7.0 MB/s\u001b[0m eta \u001b[36m0:00:00\u001b[0m\n",
            "\u001b[2K     \u001b[90m━━━━━━━━━━━━━━━━━━━━━━━━━━━━━━━━━━━━━━━━\u001b[0m \u001b[32m2.3/2.3 MB\u001b[0m \u001b[31m25.1 MB/s\u001b[0m eta \u001b[36m0:00:00\u001b[0m\n",
            "\u001b[2K     \u001b[90m━━━━━━━━━━━━━━━━━━━━━━━━━━━━━━━━━━━━━━━━\u001b[0m \u001b[32m75.6/75.6 kB\u001b[0m \u001b[31m9.1 MB/s\u001b[0m eta \u001b[36m0:00:00\u001b[0m\n",
            "\u001b[2K     \u001b[90m━━━━━━━━━━━━━━━━━━━━━━━━━━━━━━━━━━━━━━━━\u001b[0m \u001b[32m49.3/49.3 kB\u001b[0m \u001b[31m3.0 MB/s\u001b[0m eta \u001b[36m0:00:00\u001b[0m\n",
            "\u001b[2K     \u001b[90m━━━━━━━━━━━━━━━━━━━━━━━━━━━━━━━━━━━━━━━━\u001b[0m \u001b[32m302.8/302.8 kB\u001b[0m \u001b[31m3.7 MB/s\u001b[0m eta \u001b[36m0:00:00\u001b[0m\n",
            "\u001b[2K     \u001b[90m━━━━━━━━━━━━━━━━━━━━━━━━━━━━━━━━━━━━━━━━\u001b[0m \u001b[32m77.9/77.9 kB\u001b[0m \u001b[31m3.6 MB/s\u001b[0m eta \u001b[36m0:00:00\u001b[0m\n",
            "\u001b[2K     \u001b[90m━━━━━━━━━━━━━━━━━━━━━━━━━━━━━━━━━━━━━━━━\u001b[0m \u001b[32m57.5/57.5 kB\u001b[0m \u001b[31m5.2 MB/s\u001b[0m eta \u001b[36m0:00:00\u001b[0m\n",
            "\u001b[2K     \u001b[90m━━━━━━━━━━━━━━━━━━━━━━━━━━━━━━━━━━━━━━━━\u001b[0m \u001b[32m58.3/58.3 kB\u001b[0m \u001b[31m6.1 MB/s\u001b[0m eta \u001b[36m0:00:00\u001b[0m\n",
            "\u001b[2K     \u001b[90m━━━━━━━━━━━━━━━━━━━━━━━━━━━━━━━━━━━━━━━━\u001b[0m \u001b[32m53.0/53.0 kB\u001b[0m \u001b[31m5.3 MB/s\u001b[0m eta \u001b[36m0:00:00\u001b[0m\n",
            "\u001b[2K     \u001b[90m━━━━━━━━━━━━━━━━━━━━━━━━━━━━━━━━━━━━━━━━\u001b[0m \u001b[32m142.5/142.5 kB\u001b[0m \u001b[31m7.0 MB/s\u001b[0m eta \u001b[36m0:00:00\u001b[0m\n",
            "\u001b[?25h\u001b[31mERROR: pip's dependency resolver does not currently take into account all the packages that are installed. This behaviour is the source of the following dependency conflicts.\n",
            "cudf-cu12 24.4.1 requires protobuf<5,>=3.20, but you have protobuf 5.26.1 which is incompatible.\n",
            "google-ai-generativelanguage 0.6.2 requires protobuf!=3.20.0,!=3.20.1,!=4.21.0,!=4.21.1,!=4.21.2,!=4.21.3,!=4.21.4,!=4.21.5,<5.0.0dev,>=3.19.5, but you have protobuf 5.26.1 which is incompatible.\n",
            "google-api-core 2.11.1 requires protobuf!=3.20.0,!=3.20.1,!=4.21.0,!=4.21.1,!=4.21.2,!=4.21.3,!=4.21.4,!=4.21.5,<5.0.0.dev0,>=3.19.5, but you have protobuf 5.26.1 which is incompatible.\n",
            "google-cloud-aiplatform 1.48.0 requires protobuf!=3.20.0,!=3.20.1,!=4.21.0,!=4.21.1,!=4.21.2,!=4.21.3,!=4.21.4,!=4.21.5,<5.0.0dev,>=3.19.5, but you have protobuf 5.26.1 which is incompatible.\n",
            "google-cloud-bigquery-connection 1.12.1 requires protobuf!=3.20.0,!=3.20.1,!=4.21.0,!=4.21.1,!=4.21.2,!=4.21.3,!=4.21.4,!=4.21.5,<5.0.0dev,>=3.19.5, but you have protobuf 5.26.1 which is incompatible.\n",
            "google-cloud-bigquery-storage 2.25.0 requires protobuf!=3.20.0,!=3.20.1,!=4.21.0,!=4.21.1,!=4.21.2,!=4.21.3,!=4.21.4,!=4.21.5,<5.0.0dev,>=3.19.5, but you have protobuf 5.26.1 which is incompatible.\n",
            "google-cloud-datastore 2.15.2 requires protobuf!=3.20.0,!=3.20.1,!=4.21.0,!=4.21.1,!=4.21.2,!=4.21.3,!=4.21.4,!=4.21.5,<5.0.0dev,>=3.19.5, but you have protobuf 5.26.1 which is incompatible.\n",
            "google-cloud-firestore 2.11.1 requires protobuf!=3.20.0,!=3.20.1,!=4.21.0,!=4.21.1,!=4.21.2,!=4.21.3,!=4.21.4,!=4.21.5,<5.0.0dev,>=3.19.5, but you have protobuf 5.26.1 which is incompatible.\n",
            "google-cloud-functions 1.13.3 requires protobuf!=3.20.0,!=3.20.1,!=4.21.0,!=4.21.1,!=4.21.2,!=4.21.3,!=4.21.4,!=4.21.5,<5.0.0dev,>=3.19.5, but you have protobuf 5.26.1 which is incompatible.\n",
            "google-cloud-iam 2.15.0 requires protobuf!=3.20.0,!=3.20.1,!=4.21.0,!=4.21.1,!=4.21.2,!=4.21.3,!=4.21.4,!=4.21.5,<5.0.0dev,>=3.19.5, but you have protobuf 5.26.1 which is incompatible.\n",
            "google-cloud-language 2.13.3 requires protobuf!=3.20.0,!=3.20.1,!=4.21.0,!=4.21.1,!=4.21.2,!=4.21.3,!=4.21.4,!=4.21.5,<5.0.0dev,>=3.19.5, but you have protobuf 5.26.1 which is incompatible.\n",
            "google-cloud-resource-manager 1.12.3 requires protobuf!=3.20.0,!=3.20.1,!=4.21.0,!=4.21.1,!=4.21.2,!=4.21.3,!=4.21.4,!=4.21.5,<5.0.0dev,>=3.19.5, but you have protobuf 5.26.1 which is incompatible.\n",
            "google-cloud-translate 3.11.3 requires protobuf!=3.20.0,!=3.20.1,!=4.21.0,!=4.21.1,!=4.21.2,!=4.21.3,!=4.21.4,!=4.21.5,<5.0.0dev,>=3.19.5, but you have protobuf 5.26.1 which is incompatible.\n",
            "googleapis-common-protos 1.63.0 requires protobuf!=3.20.0,!=3.20.1,!=4.21.1,!=4.21.2,!=4.21.3,!=4.21.4,!=4.21.5,<5.0.0.dev0,>=3.19.5, but you have protobuf 5.26.1 which is incompatible.\n",
            "grpc-google-iam-v1 0.13.0 requires protobuf!=3.20.0,!=3.20.1,!=4.21.1,!=4.21.2,!=4.21.3,!=4.21.4,!=4.21.5,<5.0.0dev,>=3.19.5, but you have protobuf 5.26.1 which is incompatible.\n",
            "proto-plus 1.23.0 requires protobuf<5.0.0dev,>=3.19.0, but you have protobuf 5.26.1 which is incompatible.\n",
            "tensorflow 2.15.0 requires protobuf!=4.21.0,!=4.21.1,!=4.21.2,!=4.21.3,!=4.21.4,!=4.21.5,<5.0.0dev,>=3.20.3, but you have protobuf 5.26.1 which is incompatible.\n",
            "tensorflow-metadata 1.15.0 requires protobuf<4.21,>=3.20.3; python_version < \"3.11\", but you have protobuf 5.26.1 which is incompatible.\u001b[0m\u001b[31m\n",
            "\u001b[0m"
          ]
        }
      ],
      "source": [
        "!pip install langchain qdrant-client -q"
      ]
    },
    {
      "cell_type": "code",
      "execution_count": null,
      "metadata": {
        "colab": {
          "base_uri": "https://localhost:8080/"
        },
        "id": "x3UcXp1G_efw",
        "outputId": "fcf46953-0846-4c71-d137-0ab913f7ea42"
      },
      "outputs": [
        {
          "name": "stdout",
          "output_type": "stream",
          "text": [
            "Mounted at /content/drive\n"
          ]
        }
      ],
      "source": [
        "from google.colab import drive\n",
        "drive.mount('/content/drive')"
      ]
    },
    {
      "cell_type": "code",
      "execution_count": null,
      "metadata": {
        "colab": {
          "base_uri": "https://localhost:8080/"
        },
        "id": "7evUvCK86g5D",
        "outputId": "9c0bc213-1eaa-4c5b-8f45-98bb2956f9d7"
      },
      "outputs": [
        {
          "name": "stdout",
          "output_type": "stream",
          "text": [
            "/usr/local/lib/python3.10/dist-packages/gdown/parse_url.py:48: UserWarning: You specified a Google Drive link that is not the correct link to download a file. You might want to try `--fuzzy` option or the following url: https://drive.google.com/uc?id=10GJNHfEeqpjq5AWEVn7azs_Utrk5v3wh\n",
            "  warnings.warn(\n",
            "Downloading...\n",
            "From: https://drive.google.com/file/d/10GJNHfEeqpjq5AWEVn7azs_Utrk5v3wh/view?usp=sharing\n",
            "To: /content/corpus.txt\n",
            "82.8kB [00:00, 2.51MB/s]\n"
          ]
        }
      ],
      "source": [
        "!gdown https://drive.google.com/file/d/10GJNHfEeqpjq5AWEVn7azs_Utrk5v3wh/view?usp=sharing -O corpus.txt"
      ]
    },
    {
      "cell_type": "code",
      "execution_count": null,
      "metadata": {
        "id": "70C7TvKd6wNI"
      },
      "outputs": [],
      "source": [
        "from langchain.vectorstores import Qdrant\n",
        "from langchain.embeddings import HuggingFaceBgeEmbeddings\n",
        "from langchain.text_splitter import RecursiveCharacterTextSplitter\n",
        "from langchain.document_loaders import PyPDFDirectoryLoader,TextLoader\n",
        "\n",
        "loader_corpus = TextLoader(\"/content/drive/MyDrive/vi-medical-chatbot/corpus.txt\")"
      ]
    },
    {
      "cell_type": "code",
      "execution_count": null,
      "metadata": {
        "colab": {
          "base_uri": "https://localhost:8080/"
        },
        "id": "A9oAfa3f7CyI",
        "outputId": "66f15e06-19be-47f5-86f0-6c7272a6acaa"
      },
      "outputs": [
        {
          "data": {
            "text/plain": [
              "11916"
            ]
          },
          "execution_count": 15,
          "metadata": {},
          "output_type": "execute_result"
        }
      ],
      "source": [
        "# Cắt pdf thành các đoạn text nhỏ, size là 1000 mỗi đoạn\n",
        "documents_corpus = loader_corpus.load()\n",
        "text_splitter = RecursiveCharacterTextSplitter(chunk_size=1000, chunk_overlap=400)\n",
        "\n",
        "texts_corpus = text_splitter.split_documents(documents_corpus)\n",
        "len(texts_corpus)\n"
      ]
    },
    {
      "cell_type": "code",
      "execution_count": null,
      "metadata": {
        "id": "kNj1EDOX7IWG"
      },
      "outputs": [],
      "source": [
        "# Cài đặt thông tin truy cập vector database\n",
        "QDRANT_API_KEY = \"<QDRANT_API_KEY>\"\n",
        "QDRANT_URL = \"<QDRANT_URL>\"\n",
        "HUGGINGFACE_API_KEY= \"<HUGGINGFACE_API_KEY>\""
      ]
    },
    {
      "cell_type": "code",
      "execution_count": null,
      "metadata": {
        "colab": {
          "base_uri": "https://localhost:8080/"
        },
        "id": "-nE1b50s7cNZ",
        "outputId": "167bd97e-0449-45d6-bc48-bf26c27c1e24"
      },
      "outputs": [
        {
          "name": "stdout",
          "output_type": "stream",
          "text": [
            "Tạo vector database thành công!\n"
          ]
        }
      ],
      "source": [
        "\n",
        "from langchain.embeddings import HuggingFaceInferenceAPIEmbeddings\n",
        "# Tạo lớp embeddings\n",
        "embeddings = HuggingFaceInferenceAPIEmbeddings(\n",
        "    model_name=\"sentence-transformers/paraphrase-multilingual-mpnet-base-v2\",\n",
        "    api_key = HUGGINGFACE_API_KEY,\n",
        "    model_kwargs = {'device': 'auto'}\n",
        ")\n",
        "\n",
        "# Encode dữ liệu text qua lớp embedding,\n",
        "# rồi lưu lại trên vector database server\n",
        "qdrant = Qdrant.from_documents(\n",
        "    texts_corpus,\n",
        "    embeddings,\n",
        "    url=QDRANT_URL,\n",
        "    prefer_grpc=False,\n",
        "    collection_name=\"disease_corpus_vector_db_v1\",\n",
        "    api_key=QDRANT_API_KEY,\n",
        ")\n",
        "\n",
        "print(\"Tạo vector database thành công!\")"
      ]
    },
    {
      "cell_type": "code",
      "execution_count": null,
      "metadata": {
        "id": "SHI-HJHm7epm"
      },
      "outputs": [],
      "source": [
        "query = \"Hiếm muộn là gì?\"\n",
        "found_docs = qdrant.similarity_search(query,k=5)"
      ]
    },
    {
      "cell_type": "code",
      "execution_count": null,
      "metadata": {
        "colab": {
          "base_uri": "https://localhost:8080/"
        },
        "id": "xsuH_S0e7fN4",
        "outputId": "17604a93-7764-4294-f5b0-75b177b2312d"
      },
      "outputs": [
        {
          "data": {
            "text/plain": [
              "[Document(page_content='Hiếm muộn là gì? Hiếm muộn theo định nghĩa của Tổ chức Y tế Thế giới (WHO) là tình trạng một cặp vợ chồng không thể có thai sau một năm chung sống, giao hợp thường xuyên và không sử dụng bất kỳ biện pháp tránh thai nào. Nếu người vợ trên 35 tuổi, thời gian này được rút ngắn lại chỉ còn 6 tháng. (1) Theo các chuyên gia, khoảng 85% phụ nữ sẽ thụ thai tự nhiên trong vòng 12 tháng đầu tiên. Trong 3 tháng đầu có quan hệ tình dục không sử dụng bất kỳ biện pháp tránh thai nào thì khả năng sinh sản là 25%. Tỷ lệ này sẽ giảm xuống còn 15% trong 9 tháng còn lại. Vì vậy với những cặp vợ chồng đang mong con và đã cố gắng trong ít nhất một năm mà vẫn chưa có tin vui thì nên đi khám chuyên khoa càng sớm càng tốt, việc điều trị không nên trì hoãn vì càng lớn tuổi chức năng sinh sản sẽ càng suy giảm. Hiếm muộn có thể được phân thành hai loại gồm hiếm muộn nguyên phát và thứ phát. Trong đó, hiếm muộn thứ phát là trường hợp hai vợ chồng đã có thai ít nhất một lần. Hiếm muộn nguyên phát là trường hợp vợ', metadata={'source': '/content/drive/MyDrive/vi-medical-chatbot/corpus.txt', '_id': '63b96cc9-cb08-46c0-9393-8efd4075ea15', '_collection_name': 'disease_corpus_vector_db_v1'}),\n",
              " Document(page_content='Hiếm muộn là gì? Nguyên nhân, dấu hiệu, chẩn đoán, phòng ngừa\\nHiếm muộn là gì? Nguyên nhân, dấu hiệu, chẩn đoán, phòng ngừa\\nHiếm muộn đang được xem là một chứng bệnh của thời đại khi tỷ lệ mắc ngày càng gia tăng và có dấu hiệu trẻ hóa. Theo một số thống kê mới đây tỷ lệ hiếm muộn, vô sinh ở các cặp vợ chồng tại Việt Nam chiếm 7.7%. Vậy hiếm muộn được định nghĩa như thế nào? Cùng tìm hiểu những nguyên nhân dẫn tới tình trạng này.  \\nHiếm muộn là gì?\\nNguyên nhân hiếm muộn con\\nDấu hiệu nhận biết tình trạng hiếm muộn\\nKhi nào cần gặp bác sĩ?\\nPhương pháp chẩn đoán hiếm muộn\\nBệnh hiếm muộn có chữa được không?\\nBiện pháp phòng ngừa hiếm muộn như thế nào?\\nDịch vụ khám hiếm muộn tại', metadata={'source': '/content/drive/MyDrive/vi-medical-chatbot/corpus.txt', '_id': 'd2a08657-d932-4f9b-81fd-3f005549526d', '_collection_name': 'disease_corpus_vector_db_v1'}),\n",
              " Document(page_content='Dấu hiệu nhận biết bệnh theo từng giai đoạn Thời điểm có ý nghĩa rất quan trọng với việc điều trị bệnh. Với bệnh giang mai cũng vậy. Việc nhận biết giai đoạn không chỉ giúp người bệnh có nhiều cơ hội được chữa khỏi mà còn tránh được nguy cơ lây lan cho người thân, người bạn đời. Theo bác sĩ Đoàn Ngọc Thiện, Khoa Nam học, Hệ thống Bệnh viện đa khoa , bệnh giang mai nếu không được chẩn đoán và điều trị có thể tồn tại rất nhiều năm và hiện được chia làm 2 giai đoạn: giang mai sớm và giang mai muộn. (2) 1. Giang mai sớm Giang mai thời kỳ I: Người bệnh vẫn sinh hoạt bình thường và không có bất kỳ triệu chứng nào. Tuy nhiên, bệnh lại dễ lây nhiễm nhất trong giai đoạn này và cả giai đoạn tiếp theo. Thông thường, giai đoạn chính của bệnh giang mai bắt đầu trong khoảng 3-4 tuần (khoảng 9 – 90 ngày) sau khi nhiễm vi khuẩn. Người bệnh xuất hiện một vết loét nhỏ, tròn được gọi là săng. Săng không đau nhưng có khả năng lây nhiễm cao. Vết loét này có thể xuất hiện ở bất cứ nơi nào vi khuẩn xâm nhập', metadata={'source': '/content/drive/MyDrive/vi-medical-chatbot/corpus.txt', '_id': '175f3c4c-74bd-4af5-a075-aa546057ed97', '_collection_name': 'disease_corpus_vector_db_v1'}),\n",
              " Document(page_content='“Kịch phát” là một từ dùng để chỉ tình trạng chóng mặt này chỉ xuất hiện đột ngột trong một thời gian ngắn, khi bạn thay đổi tư thế, không có dấu hiệu báo trước.\\n “Lành tính” giúp bạn hiểu được tính chất bệnh không gây nguy hiểm đến tính mạng.\\n   Cụ thể, \\nchóng mặt kịch phát lành tính\\n là một tình trạng rối loạn hệ thống tiền đình. \\nChóng mặt kịch phát lành tính\\n phát triển khi các hạt canxi cacbonat (otoconia) còn gọi là sỏi kênh thính giác di chuyển và mắc kẹt tại ống bán khuyên (cơ quan tiền đình ở tai trong có vai trò giữ cho cơ thể được cân bằng). Khi bạn thay đổi vị trí đầu thì các các hạt sỏi này đi vào một trong ba ống bán khuyên, kích thích hệ tiền đình. Hệ tiền đình khi bị kích thích sẽ gửi tín hiệu cho não bộ và làm khởi phát cơn chóng mặt.\\n Tình trạng bệnh này gây nên những cơn chóng mặt bất ngờ khi bạn thay đổi vị trí của đầu, điển hình là tình trạng nằm xuống bị chóng mặt hoặc chóng mặt khi đột ngột chuyển từ đứng sang ngồi, nghiêng đầu sang một bên,…', metadata={'source': '/content/drive/MyDrive/vi-medical-chatbot/corpus.txt', '_id': '819d3409-1b1e-4ceb-9413-e4fd60de5e64', '_collection_name': 'disease_corpus_vector_db_v1'}),\n",
              " Document(page_content='Xuất tinh sớm là gì? Xuất tinh sớm (premature ejaculation) là tình trạng rối loạn xuất tinh khi người đàn ông không thể làm chủ được thời gian xuất tinh, quá trình xuất tinh sớm được tính từ khi dương vật đưa vào âm đạo chỉ duy trì trong vòng 2 phút. Quá trình xuất tinh là sự phóng tinh dịch ra khỏi dương vật khi đạt được cực khoái. Việc xuất tinh sớm không chỉ ảnh hưởng đến của cảm xúc giường chiếu của chính mình mà “đối tác” của họ cũng ảnh hưởng không kém. Xuất tinh sớm là hiện tượng khá phổ biến, xuất hiện từ độ tuổi 18 đến 59. (1) Xuất tinh sớm là vấn đề này khá nhạy cảm nên nhiều người không dám đối diện, né tránh thăm khám, chữa trị. Tuy nhiên, điều này ảnh hưởng rất lớn đến cuộc sống của nam giới, nếu không được điều trị sớm, nam giới có nguy cơ đối mặt với những biến chứng nguy hiểm như: rối loạn cương dương, gây liệt dương, thậm chí dẫn đến vô sinh. Xuất tinh sớm thường có 4 dạng là nguyên phát (thời gian xuất tinh ngắn xảy ra ngay từ những lần đầu giao hợp và kéo dài cho', metadata={'source': '/content/drive/MyDrive/vi-medical-chatbot/corpus.txt', '_id': 'ad3873f0-2c92-44fb-b6ec-291a7b9a14b4', '_collection_name': 'disease_corpus_vector_db_v1'})]"
            ]
          },
          "execution_count": 27,
          "metadata": {},
          "output_type": "execute_result"
        }
      ],
      "source": [
        "found_docs"
      ]
    }
  ],
  "metadata": {
    "accelerator": "GPU",
    "colab": {
      "gpuType": "T4",
      "provenance": []
    },
    "kernelspec": {
      "display_name": "Python 3",
      "name": "python3"
    },
    "language_info": {
      "name": "python"
    }
  },
  "nbformat": 4,
  "nbformat_minor": 0
}
