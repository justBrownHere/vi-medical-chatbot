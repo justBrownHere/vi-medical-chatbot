{
 "cells": [
  {
   "cell_type": "code",
   "execution_count": 2,
   "metadata": {},
   "outputs": [
    {
     "name": "stdout",
     "output_type": "stream",
     "text": [
      "603\n"
     ]
    }
   ],
   "source": [
    "#count file\n",
    "\n",
    "import os\n",
    "\n",
    "folder_path = 'corpus'\n",
    "file_count = len([file for file in os.listdir(folder_path) if os.path.isfile(os.path.join(folder_path,file))])\n",
    "print(file_count)"
   ]
  },
  {
   "cell_type": "code",
   "execution_count": null,
   "metadata": {},
   "outputs": [],
   "source": [
    "#Convert all file in corpus to txt file\n",
    "\n",
    "for file in os.listdir(folder_path):\n",
    "    file_path = os.path.join(folder_path, file)\n",
    "    if os.path.isfile(file_path):\n",
    "        new_file_name = file + '.txt'\n",
    "        new_file_path = os.path.join(folder_path,new_file_name)\n",
    "        os.rename(file_path, new_file_path)\n",
    "        print(f\"Convert '{file_path}' to '{new_file_name}'.\")\n"
   ]
  },
  {
   "cell_type": "code",
   "execution_count": null,
   "metadata": {},
   "outputs": [],
   "source": [
    "for file in os.listdir(folder_path):\n",
    "    if file.endswith(\".txt\"):\n",
    "        file_path = os.path.join(folder_path,file)\n",
    "        with open(file_path, 'r') as f:\n",
    "            lines = f.readlines()\n",
    "        if len(lines) > 5:\n",
    "            with open(file_path,'w') as f:\n",
    "                f.writelines(lines[5:])\n",
    "            print(f\"Delete 5 first line {file}\")"
   ]
  },
  {
   "cell_type": "code",
   "execution_count": null,
   "metadata": {},
   "outputs": [],
   "source": [
    "#remove html tag and link\n",
    "\n",
    "import re\n",
    "from bs4 import BeautifulSoup\n",
    "\n",
    "for file in os.listdir(folder_path):\n",
    "    if file.endswith(\".txt\"):\n",
    "        file_path = os.path.join(folder_path, file)\n",
    "        with open(file_path, 'r') as f:\n",
    "            content = f.read()\n",
    "\n",
    "        soup = BeautifulSoup(content, 'html.parser')\n",
    "        text_remove_html = soup.get_text()\n",
    "\n",
    "        text_remove_link = re.sub(r'http\\S+', '', text_remove_html)\n",
    "\n",
    "        with open(file_path, 'w') as f:\n",
    "            f.write(text_remove_link)\n",
    "\n",
    "        print(f\"Delete html tag and link in {file}.\")"
   ]
  },
  {
   "cell_type": "code",
   "execution_count": null,
   "metadata": {},
   "outputs": [],
   "source": [
    "#delete phone number\n",
    "\n",
    "phone_number_pattern = re.compile(r'\\d{3}[-.\\s]?\\d{3}[-.\\s]?\\d{4}')\n",
    "\n",
    "for file in os.listdir(folder_path):\n",
    "    if file.endswith(\".txt\"):\n",
    "        file_path = os.path.join(folder_path, file)\n",
    "        with open(file_path, 'r') as f:\n",
    "            content = f.read()\n",
    "\n",
    "        content_remove_phone_numbers = re.sub(phone_number_pattern, '', content)\n",
    "        with open(file_path, 'w') as file:\n",
    "            file.write(content_remove_phone_numbers)\n",
    "        print(f\"Delete phone number in '{file}'.\")\n"
   ]
  },
  {
   "cell_type": "code",
   "execution_count": null,
   "metadata": {},
   "outputs": [],
   "source": [
    "sentence_remove = [\n",
    "    \"Quý khách có thể liên hệ:\",\n",
    "    \"    :\",\n",
    "    \"Mục lục\",\n",
    "    \"– 0\",\n",
    "    \"ĐỂ ĐẶT LỊCH HẸN KHÁM VÀ TÌM HIỂU THÔNG TIN, XIN VUI LÒNG LIÊN HỆ\",\n",
    "    \"tại bệnh viện Đa khoa\",\n",
    "    \"quý khách vui lòng liên hệ\",\n",
    "    \"Bệnh viện Đa Khoa Tâm Anh\",\n",
    "    \"BVĐK Tâm Anh\",\n",
    "    \"Tâm Anh\",\n",
    "    \"108 Hoàng Như Tiếp, P.Bồ Đề, Q.Long Biên, TP.\",\n",
    "    \"Fanpage:\",\n",
    "    \"2B Phổ Quang, P.2, Q.Tân Bình, TP.Hồ Chí Minh\",\n",
    "    \"Hotline:\",\n",
    "    \"0 –\",\n",
    "    \"Website:\",\n",
    "    \"024 3872 3872 – 024 7106 6858\",\n",
    "    \"HỆ THỐNG BỆNH VIỆN ĐA KHOA TÂM ANH  Hà Nội:\",\n",
    "    \"HỆ THỐNG BỆNH VIỆN ĐA KHOA TÂM ANH\",\n",
    "    \"Hà Nội\",\n",
    "    \"Bệnh viện Đa khoa Tâm Anh\",\n",
    "    \"TP.HCM\",\n",
    "    \"Hotline: 024 3872 3872 – 024 7106 6858\",\n",
    "    \"TP.HCM:\",\n",
    "    \"quý khách vui lòng liên hệ:\"\n",
    "    \"Quý khách có thể liên hệ:\"\n",
    "]\n",
    "\n",
    "for file in os.listdir(folder_path):\n",
    "    if file.endswith(\".txt\"):\n",
    "        file_path = os.path.join(folder_path, file)\n",
    "        with open(file_path, 'r') as f:\n",
    "            content = f.read()\n",
    "        \n",
    "        for sentence in sentence_remove:\n",
    "            content = content.replace(sentence,'')\n",
    "        \n",
    "        with open(file_path, 'w') as f:\n",
    "            f.write(content)\n",
    "        \n",
    "        print(f\"Process {file} success!\")"
   ]
  },
  {
   "cell_type": "code",
   "execution_count": null,
   "metadata": {},
   "outputs": [],
   "source": [
    "for file in os.listdir(folder_path):\n",
    "    if file.endswith('.txt'):\n",
    "        file_path = os.path.join(folder_path, file)\n",
    "        with open(file_path, 'r') as f:\n",
    "            lines = f.readlines()\n",
    "        \n",
    "        clean_lines = [line for line in lines if line.strip()]\n",
    "        \n",
    "        with open(file_path, 'w') as f:\n",
    "            f.writelines(clean_lines)\n",
    "        print(f\"Đã xoá các dòng trống từ '{file}'.\")"
   ]
  },
  {
   "cell_type": "code",
   "execution_count": null,
   "metadata": {},
   "outputs": [],
   "source": [
    "output_file = 'corpus.txt'\n",
    "\n",
    "with open(output_file, 'w') as output:\n",
    "    for file_name in os.listdir(folder_path):\n",
    "\n",
    "        if file_name.endswith('.txt'):\n",
    "            file_path = os.path.join(folder_path, file_name)\n",
    "            \n",
    "            with open(file_path, 'r') as file:\n",
    "                content = file.read()\n",
    "                output.write(content)\n",
    "                output.write('\\n')"
   ]
  }
 ],
 "metadata": {
  "kernelspec": {
   "display_name": "Python 3.9.14 64-bit ('3.9.14')",
   "language": "python",
   "name": "python3"
  },
  "language_info": {
   "codemirror_mode": {
    "name": "ipython",
    "version": 3
   },
   "file_extension": ".py",
   "mimetype": "text/x-python",
   "name": "python",
   "nbconvert_exporter": "python",
   "pygments_lexer": "ipython3",
   "version": "3.9.14"
  },
  "orig_nbformat": 4,
  "vscode": {
   "interpreter": {
    "hash": "1c08934bc67aed6d6ced172db4b1da9f07891c5e32265fc5b7d838c196afda5f"
   }
  }
 },
 "nbformat": 4,
 "nbformat_minor": 2
}
